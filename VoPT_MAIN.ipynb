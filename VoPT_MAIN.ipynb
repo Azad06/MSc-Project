{
 "cells": [
  {
   "cell_type": "code",
   "execution_count": 1,
   "id": "8a641dec",
   "metadata": {},
   "outputs": [],
   "source": [
    "import numpy as np\n",
    "import matplotlib.pyplot as plt\n",
    "from scipy import sparse\n",
    "import sys\n",
    "import matplotlib\n",
    "from matplotlib.ticker import MaxNLocator\n",
    "from matplotlib import cm\n",
    "from mpl_toolkits.mplot3d import Axes3D\n",
    "from numpy.random import randn, shuffle\n",
    "from scipy import linspace, meshgrid, arange, empty, concatenate, newaxis, shape\n"
   ]
  },
  {
   "cell_type": "code",
   "execution_count": 2,
   "id": "184575a7",
   "metadata": {},
   "outputs": [],
   "source": [
    "k0 = 2*np.pi/1.5 \n",
    "a,b,n1,n2 = [1,1,1.5,1.49]\n",
    "x = np.linspace(-10,10,101)\n",
    "y = np.linspace(-10,10,101)"
   ]
  },
  {
   "cell_type": "markdown",
   "id": "b4b0a79f",
   "metadata": {},
   "source": [
    "<h1> STEP_1"
   ]
  },
  {
   "cell_type": "code",
   "execution_count": 3,
   "id": "290c4f2c",
   "metadata": {},
   "outputs": [],
   "source": [
    "# Defining n^2(x,y) # Modify this later\n",
    "\n",
    "def n_sq(x,y):\n",
    "    n_x = np.zeros(len(x))\n",
    "    n_y = np.zeros(len(y))\n",
    "    n_t=[]\n",
    "    for i in range(len(x)):\n",
    "        for j in range (len(y)):\n",
    "            \n",
    "            if np.abs(x[i]) < a and np.abs(y[j]) < b :\n",
    "                n_t = n_t+[n1**2]\n",
    "                \n",
    "            else:\n",
    "                n_t=n_t+[n2**2]\n",
    "#     for j in range(len(y)):\n",
    "#             if np.abs(y[j]) < b:\n",
    "#                 n_y[j] = n1\n",
    "#                 elif y[j] > b:\n",
    "#                     n_y[j] = n2}\n",
    "        \n",
    "    return (n_t)\n",
    "\n",
    "# Defining n(y) # Initial guess , if this didn't work, chose a different value"
   ]
  },
  {
   "cell_type": "code",
   "execution_count": 4,
   "id": "625dd4c0",
   "metadata": {},
   "outputs": [
    {
     "data": {
      "text/plain": [
       "10201"
      ]
     },
     "execution_count": 4,
     "metadata": {},
     "output_type": "execute_result"
    }
   ],
   "source": [
    "# Defining n^2(x,y) # Modify this later\n",
    "\n",
    "def n_p_x(x,n1,n2,a):\n",
    "    n = []\n",
    "    for i in x:\n",
    "        if abs(i) < a:\n",
    "            n= n+ [n1]\n",
    "        else:\n",
    "            n= n+ [n2]\n",
    "    return np.asarray(n)\n",
    "\n",
    "def nsq_x(x):\n",
    "    n = []\n",
    "    for i in x:\n",
    "        if abs(i) < a:\n",
    "            n= n+ [n1**2]\n",
    "        else:\n",
    "            n= n+ [n2**2]\n",
    "    return np.asarray(n)\n",
    "\n",
    "def n_p_y(y):\n",
    "    n = []\n",
    "    for i in y:\n",
    "        if abs(i) < b:\n",
    "            n= n+ [n1**2]\n",
    "        else:\n",
    "            n= n+ [n2**2]\n",
    "    return np.asarray(n)\n",
    "\n",
    "len(n_sq(x,y))"
   ]
  },
  {
   "cell_type": "code",
   "execution_count": 5,
   "id": "e3a395da",
   "metadata": {},
   "outputs": [
    {
     "data": {
      "text/plain": [
       "101"
      ]
     },
     "execution_count": 5,
     "metadata": {},
     "output_type": "execute_result"
    }
   ],
   "source": [
    "len(n_p_y(y))"
   ]
  },
  {
   "cell_type": "code",
   "execution_count": 6,
   "id": "636e145b",
   "metadata": {},
   "outputs": [],
   "source": [
    "# # # n_sq_values = n_sq(x,y)\n",
    "# # nsq_y(y)  = n_p_y(y,n1,n2,b)**2\n",
    "# nsq_y(y) "
   ]
  },
  {
   "cell_type": "markdown",
   "id": "18d6f310",
   "metadata": {},
   "source": [
    "<h1> STEP_2"
   ]
  },
  {
   "cell_type": "code",
   "execution_count": 7,
   "id": "4afc470a",
   "metadata": {},
   "outputs": [],
   "source": [
    "# Finding β^2_y\n",
    "β2_y = 6.251442319733478"
   ]
  },
  {
   "cell_type": "code",
   "execution_count": 8,
   "id": "d5636fbc",
   "metadata": {},
   "outputs": [],
   "source": [
    "κ = (k0**2*n1**2 -β2_y**2) **0.5\n",
    "γ = (-k0**2*n2**2 +β2_y**2) **0.5\n",
    "\n",
    "def Y(y):\n",
    "    Y=[]\n",
    "    for i in y:\n",
    "        if np.abs(i) < b:\n",
    "            ans = np.cos(κ*i)\n",
    "        else:\n",
    "            ans = np.exp(-γ*np.abs(i))*np.cos(κ*b) / (np.exp(-γ*b))\n",
    "        Y=Y+[ans]\n",
    "    return np.asarray(Y)\n"
   ]
  },
  {
   "cell_type": "code",
   "execution_count": 9,
   "id": "e1e08c67",
   "metadata": {},
   "outputs": [],
   "source": [
    "# Plotting Y(y)\n",
    "plt.plot(y,Y(y))\n",
    "plt.grid()"
   ]
  },
  {
   "cell_type": "code",
   "execution_count": 10,
   "id": "6d06fb86",
   "metadata": {},
   "outputs": [],
   "source": [
    "# Normalize Y(y)\n",
    "\n",
    "# Integrating Using Simpson Method\n",
    "h = y[1]-y[0]\n",
    "def Simpson(func,h):\n",
    "    N = len(func)\n",
    "    sum = ( func[0]+ func[-1] ) \n",
    "    h = y[1]-y[0]\n",
    "    for i in range(1,N-1,2):\n",
    "        sum = sum+ 4*func[i]\n",
    "    \n",
    "    for i in range(2,N-2,2):\n",
    "        sum =sum+ 2*func[i]\n",
    "    return h*sum/3"
   ]
  },
  {
   "cell_type": "code",
   "execution_count": 11,
   "id": "dbfd494c",
   "metadata": {},
   "outputs": [],
   "source": [
    "# Return an array\n",
    "def Normalize(f,h):\n",
    "    Norm = Simpson(f**2,h)\n",
    "    return f / (Norm)**0.5"
   ]
  },
  {
   "cell_type": "code",
   "execution_count": 12,
   "id": "1e4c1623",
   "metadata": {},
   "outputs": [],
   "source": [
    "Norm = Simpson(Y(y)**2,h)\n",
    "# Return a function\n",
    "def Normalize_fun(y):\n",
    "    Y=[]\n",
    "    for i in y:\n",
    "        if np.abs(i) < b:\n",
    "            ans = np.cos(κ*i)\n",
    "        else:\n",
    "            ans = np.exp(-γ*np.abs(i))*np.cos(κ) / (np.exp(-γ))\n",
    "        Y=Y+[ans]\n",
    "    return np.asarray(Y)/(Norm)**0.5"
   ]
  },
  {
   "cell_type": "code",
   "execution_count": 13,
   "id": "10485a14",
   "metadata": {},
   "outputs": [],
   "source": [
    "h=y[1]-y[0]\n",
    "Y_y = Normalize(Y(y),h)"
   ]
  },
  {
   "cell_type": "code",
   "execution_count": 14,
   "id": "d51eddb0",
   "metadata": {},
   "outputs": [],
   "source": [
    "# Plotting Normalized Y(y)\n",
    "plt.plot(y,Normalize_fun(y))\n",
    "plt.grid()"
   ]
  },
  {
   "cell_type": "markdown",
   "id": "5da4d72f",
   "metadata": {},
   "source": [
    "<h1> STEP_3"
   ]
  },
  {
   "cell_type": "code",
   "execution_count": 15,
   "id": "7870a139",
   "metadata": {},
   "outputs": [],
   "source": [
    "# Finding n_x\n",
    "\n",
    "# h=y[1] - y[0]\n",
    "# def n2_x(x,y):\n",
    "#     N=[]\n",
    "#     for i in x:\n",
    "#         n = []\n",
    "#         k = range(len(x))\n",
    "#         for j in y:\n",
    "\n",
    "#             n = n + [(n_sq([i],[j]) - n_p_y([j])) * (Normalize_fun([j]))**2]\n",
    "#         #N=N+[(h*((n[0]+n[-1])+(2*sum(n[1:-1])))/2)+(k0*n1)**2]  \n",
    "#         N=N+[ Simpson(n,h)  +(k0*n1)**2]\n",
    "#     return np.asarray(N)\n",
    "# print(n2_x(x,y))"
   ]
  },
  {
   "cell_type": "code",
   "execution_count": 16,
   "id": "63096d08",
   "metadata": {},
   "outputs": [],
   "source": [
    "# w=[]\n",
    "# for i in range (len(y)-1):\n",
    "#     if N[i]-N[i+1]!=0:\n",
    "#         Nx=[N[i],N[i+1]]\n",
    "#         w= w+[y[i]]\n",
    "        \n",
    "# print(Nx)"
   ]
  },
  {
   "cell_type": "code",
   "execution_count": 17,
   "id": "925fcd09",
   "metadata": {},
   "outputs": [
    {
     "data": {
      "text/plain": [
       "6.2831853068328325"
      ]
     },
     "execution_count": 17,
     "metadata": {},
     "output_type": "execute_result"
    }
   ],
   "source": [
    "39.4784176**0.5"
   ]
  },
  {
   "cell_type": "code",
   "execution_count": 18,
   "id": "11bbb8ee",
   "metadata": {},
   "outputs": [
    {
     "data": {
      "text/plain": [
       "6.282108735130267"
      ]
     },
     "execution_count": 18,
     "metadata": {},
     "output_type": "execute_result"
    }
   ],
   "source": [
    " 39.46489016**0.5"
   ]
  },
  {
   "cell_type": "code",
   "execution_count": 19,
   "id": "7212b82f",
   "metadata": {
    "scrolled": true
   },
   "outputs": [
    {
     "name": "stdout",
     "output_type": "stream",
     "text": [
      "[[39.46489016]\n",
      " [39.46489016]\n",
      " [39.46489016]\n",
      " [39.46489016]\n",
      " [39.46489016]\n",
      " [39.46489016]\n",
      " [39.46489016]\n",
      " [39.46489016]\n",
      " [39.46489016]\n",
      " [39.46489016]\n",
      " [39.46489016]\n",
      " [39.46489016]\n",
      " [39.46489016]\n",
      " [39.46489016]\n",
      " [39.46489016]\n",
      " [39.46489016]\n",
      " [39.46489016]\n",
      " [39.46489016]\n",
      " [39.46489016]\n",
      " [39.46489016]\n",
      " [39.46489016]\n",
      " [39.46489016]\n",
      " [39.46489016]\n",
      " [39.46489016]\n",
      " [39.46489016]\n",
      " [39.46489016]\n",
      " [39.46489016]\n",
      " [39.46489016]\n",
      " [39.46489016]\n",
      " [39.46489016]\n",
      " [39.46489016]\n",
      " [39.46489016]\n",
      " [39.46489016]\n",
      " [39.46489016]\n",
      " [39.46489016]\n",
      " [39.46489016]\n",
      " [39.46489016]\n",
      " [39.46489016]\n",
      " [39.46489016]\n",
      " [39.46489016]\n",
      " [39.46489016]\n",
      " [39.46489016]\n",
      " [39.46489016]\n",
      " [39.46489016]\n",
      " [39.46489016]\n",
      " [39.46489016]\n",
      " [39.4784176 ]\n",
      " [39.4784176 ]\n",
      " [39.4784176 ]\n",
      " [39.4784176 ]\n",
      " [39.4784176 ]\n",
      " [39.4784176 ]\n",
      " [39.4784176 ]\n",
      " [39.4784176 ]\n",
      " [39.4784176 ]\n",
      " [39.46489016]\n",
      " [39.46489016]\n",
      " [39.46489016]\n",
      " [39.46489016]\n",
      " [39.46489016]\n",
      " [39.46489016]\n",
      " [39.46489016]\n",
      " [39.46489016]\n",
      " [39.46489016]\n",
      " [39.46489016]\n",
      " [39.46489016]\n",
      " [39.46489016]\n",
      " [39.46489016]\n",
      " [39.46489016]\n",
      " [39.46489016]\n",
      " [39.46489016]\n",
      " [39.46489016]\n",
      " [39.46489016]\n",
      " [39.46489016]\n",
      " [39.46489016]\n",
      " [39.46489016]\n",
      " [39.46489016]\n",
      " [39.46489016]\n",
      " [39.46489016]\n",
      " [39.46489016]\n",
      " [39.46489016]\n",
      " [39.46489016]\n",
      " [39.46489016]\n",
      " [39.46489016]\n",
      " [39.46489016]\n",
      " [39.46489016]\n",
      " [39.46489016]\n",
      " [39.46489016]\n",
      " [39.46489016]\n",
      " [39.46489016]\n",
      " [39.46489016]\n",
      " [39.46489016]\n",
      " [39.46489016]\n",
      " [39.46489016]\n",
      " [39.46489016]\n",
      " [39.46489016]\n",
      " [39.46489016]\n",
      " [39.46489016]\n",
      " [39.46489016]\n",
      " [39.46489016]\n",
      " [39.46489016]]\n"
     ]
    }
   ],
   "source": [
    " N=[]\n",
    "for i in x:\n",
    "    n=[]\n",
    "    for j in y:\n",
    "        \n",
    "        n = n + [(n_sq([i],[j]) - n_p_y([j])) * (Normalize_fun([j]))**2]\n",
    "    N= N+[(h*((n[0]+n[-1])+(2*sum(n[1:-1])))/2)+(k0*n1)**2]    \n",
    "print(np.asarray(N))\n",
    "n2_x=N"
   ]
  },
  {
   "cell_type": "markdown",
   "id": "d2622869",
   "metadata": {},
   "source": [
    "<h1> STEP_4"
   ]
  },
  {
   "cell_type": "code",
   "execution_count": 20,
   "id": "55237b23",
   "metadata": {},
   "outputs": [
    {
     "name": "stdout",
     "output_type": "stream",
     "text": [
      "1.8000000000000007\n"
     ]
    }
   ],
   "source": [
    "w=[]\n",
    "for i in range (len(y)-1):\n",
    "    if N[i]-N[i+1]!=0:\n",
    "        Nx=[N[i],N[i+1]]\n",
    "        w= w+[y[i]]\n",
    "        \n",
    "print(w[-1]-w[0])"
   ]
  },
  {
   "cell_type": "code",
   "execution_count": 21,
   "id": "e0756b82",
   "metadata": {},
   "outputs": [
    {
     "data": {
      "text/plain": [
       "[<matplotlib.lines.Line2D at 0x7fa3a8b13610>]"
      ]
     },
     "execution_count": 21,
     "metadata": {},
     "output_type": "execute_result"
    }
   ],
   "source": [
    "# Defining X(x)\n",
    "\n",
    "β2_x = 26.301788914338406\n",
    "n11=6.2831853068328325\n",
    "n22=6.282108735130267\n",
    "b1=1.8000000000000007/2\n",
    "\n",
    "κ1= (k0**2*n11**2 - β2_x**2) **0.5\n",
    "γ1 = (k0**2*n22**2 -β2_x**2) **0.5\n",
    "\n",
    "def X(x):\n",
    "    X=[]\n",
    "    for i in x:\n",
    "        if np.abs(i) < b1:\n",
    "            ans = np.cos(κ1*i)\n",
    "        else:\n",
    "            ans = np.exp(-γ1*np.abs(i))*np.cos(κ1*b1) / (np.exp(-γ1*b1))\n",
    "        X=X+[ans]\n",
    "    return np.asarray(X)\n",
    "plt.grid()\n",
    "plt.plot(x,X(x))"
   ]
  },
  {
   "cell_type": "code",
   "execution_count": 22,
   "id": "5cdcd18f",
   "metadata": {},
   "outputs": [],
   "source": [
    "# # Normalize X(x)\n",
    "\n",
    "# # Integrating Using Simpson Method\n",
    "# h1 = x[1]-x[0]\n",
    "# def Simpson(func,h1):\n",
    "#     N3 = len(func)\n",
    "#     sum = ( func[0]+ func[-1] ) \n",
    "#      h1 = y[1]-y[0]\n",
    "#     for i in range(1,N3-1,2):\n",
    "#         sum = sum+ 4*func[i]\n",
    "    \n",
    "#     for i in range(2,N3-2,2):\n",
    "#         sum =sum+ 2*func[i]\n",
    "#     return h1*sum/3"
   ]
  },
  {
   "cell_type": "code",
   "execution_count": 23,
   "id": "0324b572",
   "metadata": {},
   "outputs": [],
   "source": [
    "# # Return an array\n",
    "# def Normalize(f1,h1):\n",
    "#     Norma = Simpson(f1**2,h1)\n",
    "#     return f1 / (Norma)**0.5"
   ]
  },
  {
   "cell_type": "code",
   "execution_count": 24,
   "id": "fe595b3b",
   "metadata": {},
   "outputs": [],
   "source": [
    "# # Plotting Normalized Y(y)\n",
    "# plt.plot(x,Normalize_fun(x))\n",
    "# plt.grid()"
   ]
  },
  {
   "cell_type": "markdown",
   "id": "dfaf40e1",
   "metadata": {},
   "source": [
    "<h1> STEP_5"
   ]
  },
  {
   "cell_type": "code",
   "execution_count": 25,
   "id": "edafdcc9",
   "metadata": {},
   "outputs": [
    {
     "name": "stdout",
     "output_type": "stream",
     "text": [
      "[[32.36734728]\n",
      " [32.36734728]\n",
      " [32.36734728]\n",
      " [32.36734728]\n",
      " [32.36734728]\n",
      " [32.36734728]\n",
      " [32.36734728]\n",
      " [32.36734728]\n",
      " [32.36734728]\n",
      " [32.36734728]\n",
      " [32.36734728]\n",
      " [32.36734728]\n",
      " [32.36734728]\n",
      " [32.36734728]\n",
      " [32.36734728]\n",
      " [32.36734728]\n",
      " [32.36734728]\n",
      " [32.36734728]\n",
      " [32.36734728]\n",
      " [32.36734728]\n",
      " [32.36734728]\n",
      " [32.36734728]\n",
      " [32.36734728]\n",
      " [32.36734728]\n",
      " [32.36734728]\n",
      " [32.36734728]\n",
      " [32.36734728]\n",
      " [32.36734728]\n",
      " [32.36734728]\n",
      " [32.36734728]\n",
      " [32.36734728]\n",
      " [32.36734728]\n",
      " [32.36734728]\n",
      " [32.36734728]\n",
      " [32.36734728]\n",
      " [32.36734728]\n",
      " [32.36734728]\n",
      " [32.36734728]\n",
      " [32.36734728]\n",
      " [32.36734728]\n",
      " [32.36734728]\n",
      " [32.36734728]\n",
      " [32.36734728]\n",
      " [32.36734728]\n",
      " [32.36734728]\n",
      " [32.36734728]\n",
      " [32.37033728]\n",
      " [32.37033728]\n",
      " [32.37033728]\n",
      " [32.37033728]\n",
      " [32.37033728]\n",
      " [32.37033728]\n",
      " [32.37033728]\n",
      " [32.37033728]\n",
      " [32.37033728]\n",
      " [32.36734728]\n",
      " [32.36734728]\n",
      " [32.36734728]\n",
      " [32.36734728]\n",
      " [32.36734728]\n",
      " [32.36734728]\n",
      " [32.36734728]\n",
      " [32.36734728]\n",
      " [32.36734728]\n",
      " [32.36734728]\n",
      " [32.36734728]\n",
      " [32.36734728]\n",
      " [32.36734728]\n",
      " [32.36734728]\n",
      " [32.36734728]\n",
      " [32.36734728]\n",
      " [32.36734728]\n",
      " [32.36734728]\n",
      " [32.36734728]\n",
      " [32.36734728]\n",
      " [32.36734728]\n",
      " [32.36734728]\n",
      " [32.36734728]\n",
      " [32.36734728]\n",
      " [32.36734728]\n",
      " [32.36734728]\n",
      " [32.36734728]\n",
      " [32.36734728]\n",
      " [32.36734728]\n",
      " [32.36734728]\n",
      " [32.36734728]\n",
      " [32.36734728]\n",
      " [32.36734728]\n",
      " [32.36734728]\n",
      " [32.36734728]\n",
      " [32.36734728]\n",
      " [32.36734728]\n",
      " [32.36734728]\n",
      " [32.36734728]\n",
      " [32.36734728]\n",
      " [32.36734728]\n",
      " [32.36734728]\n",
      " [32.36734728]\n",
      " [32.36734728]\n",
      " [32.36734728]\n",
      " [32.36734728]]\n"
     ]
    }
   ],
   "source": [
    "N1=[]\n",
    "for i in y:\n",
    "    n=[]\n",
    "    for j in range(len(x)):\n",
    "        \n",
    "        n = n + [(n_sq([i],[j]) - n2_x[j]) * (X([j]))**2]\n",
    "    N1= N1+[(h*((n[0]+n[-1])+(2*sum(n[1:-1])))/2)+(k0*n1)**2]    \n",
    "print(np.asarray(N1))\n",
    "n2_y = np.asarray(N1)"
   ]
  },
  {
   "cell_type": "markdown",
   "id": "eb46be7c",
   "metadata": {},
   "source": [
    "<h1> STEP_6"
   ]
  },
  {
   "cell_type": "code",
   "execution_count": 26,
   "id": "8353ab33",
   "metadata": {},
   "outputs": [
    {
     "name": "stdout",
     "output_type": "stream",
     "text": [
      "[array([32.37033728]), array([32.36734728])]\n"
     ]
    }
   ],
   "source": [
    "w1=[]\n",
    "for i in range (len(y)-1):\n",
    "    if N1[i]-N1[i+1]!=0:\n",
    "        Nx1 = [N1[i],N1[i+1]]\n",
    "        w1 = w1+[y[i]]\n",
    "        \n",
    "print(Nx1)"
   ]
  },
  {
   "cell_type": "code",
   "execution_count": 27,
   "id": "6a2a69b0",
   "metadata": {},
   "outputs": [
    {
     "data": {
      "text/plain": [
       "5.689493587306343"
      ]
     },
     "execution_count": 27,
     "metadata": {},
     "output_type": "execute_result"
    }
   ],
   "source": [
    "32.37033728**0.5"
   ]
  },
  {
   "cell_type": "code",
   "execution_count": 28,
   "id": "a00e138b",
   "metadata": {},
   "outputs": [
    {
     "data": {
      "text/plain": [
       "5.689230816200024"
      ]
     },
     "execution_count": 28,
     "metadata": {},
     "output_type": "execute_result"
    }
   ],
   "source": [
    "32.36734728**0.5"
   ]
  },
  {
   "cell_type": "code",
   "execution_count": 29,
   "id": "309888fa",
   "metadata": {},
   "outputs": [
    {
     "data": {
      "text/plain": [
       "[<matplotlib.lines.Line2D at 0x7fa3a8b457b0>]"
      ]
     },
     "execution_count": 29,
     "metadata": {},
     "output_type": "execute_result"
    }
   ],
   "source": [
    "# Defining Y(y)\n",
    "\n",
    "β2_y = 23.818957255615096\n",
    "n111=5.689493587306343\n",
    "n222=5.689230816200024\n",
    "\n",
    "a1=1.8000000000000007/2\n",
    "\n",
    "κ11= (k0**2*n111**2 - β2_y**2) **0.5\n",
    "γ11 = (k0**2*n222**2 -β2_y**2) **0.5\n",
    "\n",
    "def Y(y):\n",
    "    Y=[]\n",
    "    for i in y:\n",
    "        if np.abs(i) < a1:\n",
    "            ans = np.cos(κ11*i)\n",
    "        else:\n",
    "            ans = np.exp(-γ11*np.abs(i))*np.cos(κ11*a1) / (np.exp(-γ11*a1))\n",
    "        Y=Y+[ans]\n",
    "    return np.asarray(Y)\n",
    "plt.grid()\n",
    "plt.plot(y,Y(y))"
   ]
  },
  {
   "cell_type": "markdown",
   "id": "2d7c74c6",
   "metadata": {},
   "source": [
    "<h1> STEP_7"
   ]
  },
  {
   "cell_type": "code",
   "execution_count": 30,
   "id": "241c6300",
   "metadata": {},
   "outputs": [
    {
     "data": {
      "text/plain": [
       "1219.6484072348762"
      ]
     },
     "execution_count": 30,
     "metadata": {},
     "output_type": "execute_result"
    }
   ],
   "source": [
    "βt_sq = β2_x**2 + β2_y**2-(k0*n1)**2\n",
    "βt_sq"
   ]
  },
  {
   "cell_type": "code",
   "execution_count": 31,
   "id": "b33ec408",
   "metadata": {},
   "outputs": [
    {
     "data": {
      "text/plain": [
       "4.1887902047863905"
      ]
     },
     "execution_count": 31,
     "metadata": {},
     "output_type": "execute_result"
    }
   ],
   "source": [
    "k0"
   ]
  },
  {
   "cell_type": "code",
   "execution_count": 32,
   "id": "5818fb07",
   "metadata": {},
   "outputs": [
    {
     "data": {
      "text/plain": [
       "1.5"
      ]
     },
     "execution_count": 32,
     "metadata": {},
     "output_type": "execute_result"
    }
   ],
   "source": [
    "n1"
   ]
  },
  {
   "cell_type": "markdown",
   "id": "ad1c8e87",
   "metadata": {},
   "source": [
    "<h1>STEP_3a"
   ]
  },
  {
   "cell_type": "code",
   "execution_count": 33,
   "id": "5d45619d",
   "metadata": {},
   "outputs": [
    {
     "name": "stdout",
     "output_type": "stream",
     "text": [
      "[[32.65726767]\n",
      " [32.65726767]\n",
      " [32.65726767]\n",
      " [32.65726767]\n",
      " [32.65726767]\n",
      " [32.65726767]\n",
      " [32.65726767]\n",
      " [32.65726767]\n",
      " [32.65726767]\n",
      " [32.65726767]\n",
      " [32.65726767]\n",
      " [32.65726767]\n",
      " [32.65726767]\n",
      " [32.65726767]\n",
      " [32.65726767]\n",
      " [32.65726767]\n",
      " [32.65726767]\n",
      " [32.65726767]\n",
      " [32.65726767]\n",
      " [32.65726767]\n",
      " [32.65726767]\n",
      " [32.65726767]\n",
      " [32.65726767]\n",
      " [32.65726767]\n",
      " [32.65726767]\n",
      " [32.65726767]\n",
      " [32.65726767]\n",
      " [32.65726767]\n",
      " [32.65726767]\n",
      " [32.65726767]\n",
      " [32.65726767]\n",
      " [32.65726767]\n",
      " [32.65726767]\n",
      " [32.65726767]\n",
      " [32.65726767]\n",
      " [32.65726767]\n",
      " [32.65726767]\n",
      " [32.65726767]\n",
      " [32.65726767]\n",
      " [32.65726767]\n",
      " [32.65726767]\n",
      " [32.65726767]\n",
      " [32.65726767]\n",
      " [32.65726767]\n",
      " [32.65726767]\n",
      " [32.65726767]\n",
      " [32.66025767]\n",
      " [32.66025767]\n",
      " [32.66025767]\n",
      " [32.66025767]\n",
      " [32.66025767]\n",
      " [32.66025767]\n",
      " [32.66025767]\n",
      " [32.66025767]\n",
      " [32.66025767]\n",
      " [32.65726767]\n",
      " [32.65726767]\n",
      " [32.65726767]\n",
      " [32.65726767]\n",
      " [32.65726767]\n",
      " [32.65726767]\n",
      " [32.65726767]\n",
      " [32.65726767]\n",
      " [32.65726767]\n",
      " [32.65726767]\n",
      " [32.65726767]\n",
      " [32.65726767]\n",
      " [32.65726767]\n",
      " [32.65726767]\n",
      " [32.65726767]\n",
      " [32.65726767]\n",
      " [32.65726767]\n",
      " [32.65726767]\n",
      " [32.65726767]\n",
      " [32.65726767]\n",
      " [32.65726767]\n",
      " [32.65726767]\n",
      " [32.65726767]\n",
      " [32.65726767]\n",
      " [32.65726767]\n",
      " [32.65726767]\n",
      " [32.65726767]\n",
      " [32.65726767]\n",
      " [32.65726767]\n",
      " [32.65726767]\n",
      " [32.65726767]\n",
      " [32.65726767]\n",
      " [32.65726767]\n",
      " [32.65726767]\n",
      " [32.65726767]\n",
      " [32.65726767]\n",
      " [32.65726767]\n",
      " [32.65726767]\n",
      " [32.65726767]\n",
      " [32.65726767]\n",
      " [32.65726767]\n",
      " [32.65726767]\n",
      " [32.65726767]\n",
      " [32.65726767]\n",
      " [32.65726767]\n",
      " [32.65726767]]\n"
     ]
    }
   ],
   "source": [
    " N3=[]\n",
    "for i in x:\n",
    "    n=[]\n",
    "    for j in range (len(y)):\n",
    "        \n",
    "        n = n + [(n_sq([i],[j]) - n2_y[j]) * Y([j])**2]\n",
    "    N3= N3+[(h*((n[0]+n[-1])+(2*sum(n[1:-1])))/2)+(k0*n1)**2]    \n",
    "print(np.asarray(N3))\n",
    "n2a_x=N3"
   ]
  },
  {
   "cell_type": "markdown",
   "id": "e9cd41e8",
   "metadata": {},
   "source": [
    "<h1>STEP_4a"
   ]
  },
  {
   "cell_type": "code",
   "execution_count": 34,
   "id": "0f344dd8",
   "metadata": {},
   "outputs": [
    {
     "name": "stdout",
     "output_type": "stream",
     "text": [
      "[array([32.66025767]), array([32.65726767])]\n"
     ]
    }
   ],
   "source": [
    "w2=[]\n",
    "for i in range (len(y)-1):\n",
    "    if N3[i]-N3[i+1]!=0:\n",
    "        Nx1a = [N3[i],N3[i+1]]\n",
    "        w2 = w2+[y[i]]\n",
    "        \n",
    "print(Nx1a)"
   ]
  },
  {
   "cell_type": "code",
   "execution_count": 35,
   "id": "ca5f622d",
   "metadata": {},
   "outputs": [
    {
     "data": {
      "text/plain": [
       "5.714915368577211"
      ]
     },
     "execution_count": 35,
     "metadata": {},
     "output_type": "execute_result"
    }
   ],
   "source": [
    "32.66025767**0.5"
   ]
  },
  {
   "cell_type": "code",
   "execution_count": 36,
   "id": "f8bef7d4",
   "metadata": {},
   "outputs": [
    {
     "data": {
      "text/plain": [
       "5.7146537664149"
      ]
     },
     "execution_count": 36,
     "metadata": {},
     "output_type": "execute_result"
    }
   ],
   "source": [
    "32.65726767**0.5"
   ]
  },
  {
   "cell_type": "code",
   "execution_count": 37,
   "id": "a6e91edf",
   "metadata": {},
   "outputs": [
    {
     "data": {
      "text/plain": [
       "array([7.43853797e-04, 8.66093105e-04, 1.00842030e-03, 1.17413646e-03,\n",
       "       1.36708517e-03, 1.59174161e-03, 1.85331639e-03, 2.15787639e-03,\n",
       "       2.51248548e-03, 2.92536834e-03, 3.40610125e-03, 3.96583418e-03,\n",
       "       4.61754938e-03, 5.37636253e-03, 6.25987329e-03, 7.28857353e-03,\n",
       "       8.48632259e-03, 9.88090067e-03, 1.15046532e-02, 1.33952409e-02,\n",
       "       1.55965135e-02, 1.81595266e-02, 2.11437258e-02, 2.46183258e-02,\n",
       "       2.86639154e-02, 3.33743264e-02, 3.88588109e-02, 4.52445740e-02,\n",
       "       5.26797252e-02, 6.13367129e-02, 7.14163244e-02, 8.31523432e-02,\n",
       "       9.68169705e-02, 1.12727139e-01, 1.31251865e-01, 1.52820804e-01,\n",
       "       1.77934219e-01, 2.07174583e-01, 2.41220088e-01, 2.80860373e-01,\n",
       "       3.27014843e-01, 3.80753989e-01, 4.43324221e-01, 5.16176771e-01,\n",
       "       6.01001358e-01, 6.99765376e-01, 8.04728548e-01, 8.88521441e-01,\n",
       "       9.49928563e-01, 9.87402796e-01, 1.00000000e+00, 9.87402796e-01,\n",
       "       9.49928563e-01, 8.88521441e-01, 8.04728548e-01, 6.99765376e-01,\n",
       "       6.01001358e-01, 5.16176771e-01, 4.43324221e-01, 3.80753989e-01,\n",
       "       3.27014843e-01, 2.80860373e-01, 2.41220088e-01, 2.07174583e-01,\n",
       "       1.77934219e-01, 1.52820804e-01, 1.31251865e-01, 1.12727139e-01,\n",
       "       9.68169705e-02, 8.31523432e-02, 7.14163244e-02, 6.13367129e-02,\n",
       "       5.26797252e-02, 4.52445740e-02, 3.88588109e-02, 3.33743264e-02,\n",
       "       2.86639154e-02, 2.46183258e-02, 2.11437258e-02, 1.81595266e-02,\n",
       "       1.55965135e-02, 1.33952409e-02, 1.15046532e-02, 9.88090067e-03,\n",
       "       8.48632259e-03, 7.28857353e-03, 6.25987329e-03, 5.37636253e-03,\n",
       "       4.61754938e-03, 3.96583418e-03, 3.40610125e-03, 2.92536834e-03,\n",
       "       2.51248548e-03, 2.15787639e-03, 1.85331639e-03, 1.59174161e-03,\n",
       "       1.36708517e-03, 1.17413646e-03, 1.00842030e-03, 8.66093105e-04,\n",
       "       7.43853797e-04])"
      ]
     },
     "execution_count": 37,
     "metadata": {},
     "output_type": "execute_result"
    }
   ],
   "source": [
    "# Defining Xa(x)\n",
    "\n",
    "β2_xa = 23.92539441616391\n",
    "n11a=5.714915368577211\n",
    "n22a=5.7146537664149\n",
    "b1a=1.8000000000000007/2\n",
    "\n",
    "κ1a= (k0**2*n11a**2 - β2_xa**2) **0.5\n",
    "γ1a = (k0**2*n22a**2 -β2_xa**2) **0.5\n",
    "\n",
    "def Xa(x):\n",
    "    Xa=[]\n",
    "    for i in x:\n",
    "        if np.abs(i) < b1a:\n",
    "            ans = np.cos(κ1a*i)\n",
    "        else:\n",
    "            ans = np.exp(-γ1a*np.abs(i))*np.cos(κ1a*b1a) / (np.exp(-γ1a*b1a))\n",
    "        Xa=Xa+[ans]\n",
    "    return np.asarray(Xa)\n",
    "plt.grid()\n",
    "plt.plot(x,Xa(x))\n",
    "Xa(x)"
   ]
  },
  {
   "cell_type": "markdown",
   "id": "597946d4",
   "metadata": {},
   "source": [
    "<h1>STEP_5a"
   ]
  },
  {
   "cell_type": "code",
   "execution_count": 38,
   "id": "655065ef",
   "metadata": {},
   "outputs": [
    {
     "name": "stdout",
     "output_type": "stream",
     "text": [
      "[[32.62098557]\n",
      " [32.62098557]\n",
      " [32.62098557]\n",
      " [32.62098557]\n",
      " [32.62098557]\n",
      " [32.62098557]\n",
      " [32.62098557]\n",
      " [32.62098557]\n",
      " [32.62098557]\n",
      " [32.62098557]\n",
      " [32.62098557]\n",
      " [32.62098557]\n",
      " [32.62098557]\n",
      " [32.62098557]\n",
      " [32.62098557]\n",
      " [32.62098557]\n",
      " [32.62098557]\n",
      " [32.62098557]\n",
      " [32.62098557]\n",
      " [32.62098557]\n",
      " [32.62098557]\n",
      " [32.62098557]\n",
      " [32.62098557]\n",
      " [32.62098557]\n",
      " [32.62098557]\n",
      " [32.62098557]\n",
      " [32.62098557]\n",
      " [32.62098557]\n",
      " [32.62098557]\n",
      " [32.62098557]\n",
      " [32.62098557]\n",
      " [32.62098557]\n",
      " [32.62098557]\n",
      " [32.62098557]\n",
      " [32.62098557]\n",
      " [32.62098557]\n",
      " [32.62098557]\n",
      " [32.62098557]\n",
      " [32.62098557]\n",
      " [32.62098557]\n",
      " [32.62098557]\n",
      " [32.62098557]\n",
      " [32.62098557]\n",
      " [32.62098557]\n",
      " [32.62098557]\n",
      " [32.62098557]\n",
      " [32.62397557]\n",
      " [32.62397557]\n",
      " [32.62397557]\n",
      " [32.62397557]\n",
      " [32.62397557]\n",
      " [32.62397557]\n",
      " [32.62397557]\n",
      " [32.62397557]\n",
      " [32.62397557]\n",
      " [32.62098557]\n",
      " [32.62098557]\n",
      " [32.62098557]\n",
      " [32.62098557]\n",
      " [32.62098557]\n",
      " [32.62098557]\n",
      " [32.62098557]\n",
      " [32.62098557]\n",
      " [32.62098557]\n",
      " [32.62098557]\n",
      " [32.62098557]\n",
      " [32.62098557]\n",
      " [32.62098557]\n",
      " [32.62098557]\n",
      " [32.62098557]\n",
      " [32.62098557]\n",
      " [32.62098557]\n",
      " [32.62098557]\n",
      " [32.62098557]\n",
      " [32.62098557]\n",
      " [32.62098557]\n",
      " [32.62098557]\n",
      " [32.62098557]\n",
      " [32.62098557]\n",
      " [32.62098557]\n",
      " [32.62098557]\n",
      " [32.62098557]\n",
      " [32.62098557]\n",
      " [32.62098557]\n",
      " [32.62098557]\n",
      " [32.62098557]\n",
      " [32.62098557]\n",
      " [32.62098557]\n",
      " [32.62098557]\n",
      " [32.62098557]\n",
      " [32.62098557]\n",
      " [32.62098557]\n",
      " [32.62098557]\n",
      " [32.62098557]\n",
      " [32.62098557]\n",
      " [32.62098557]\n",
      " [32.62098557]\n",
      " [32.62098557]\n",
      " [32.62098557]\n",
      " [32.62098557]\n",
      " [32.62098557]]\n"
     ]
    }
   ],
   "source": [
    "N3a=[]\n",
    "\n",
    "for i in y:\n",
    "    n=[]\n",
    "    for j in range(len(x)):\n",
    "        \n",
    "        n = n + [(n_sq([i],[j]) - n2a_x[j]) * (Xa([j]))**2]\n",
    "    N3a= N3a+[(h*((n[0]+n[-1])+(2*sum(n[1:-1])))/2)+(k0*n1)**2]    \n",
    "print(np.asarray(N3a))\n",
    "n2a_y = np.asarray(N3a)"
   ]
  },
  {
   "cell_type": "markdown",
   "id": "1bcd09b6",
   "metadata": {},
   "source": [
    "<h1>STEP_6a"
   ]
  },
  {
   "cell_type": "code",
   "execution_count": 39,
   "id": "9d9ca8e0",
   "metadata": {},
   "outputs": [
    {
     "name": "stdout",
     "output_type": "stream",
     "text": [
      "[array([32.62397557]), array([32.62098557])]\n"
     ]
    }
   ],
   "source": [
    "w1a=[]\n",
    "for i in range (len(y)-1):\n",
    "    if n2a_y[i]-n2a_y[i+1]!=0:\n",
    "        Nx1a = [n2a_y[i],n2a_y[i+1]]\n",
    "        w1a = w1a+[y[i]]\n",
    "        \n",
    "print(Nx1a)"
   ]
  },
  {
   "cell_type": "code",
   "execution_count": 40,
   "id": "47b3e6b3",
   "metadata": {},
   "outputs": [
    {
     "data": {
      "text/plain": [
       "5.711740152527949"
      ]
     },
     "execution_count": 40,
     "metadata": {},
     "output_type": "execute_result"
    }
   ],
   "source": [
    "32.62397557**0.5"
   ]
  },
  {
   "cell_type": "code",
   "execution_count": 41,
   "id": "ef320dc5",
   "metadata": {},
   "outputs": [
    {
     "data": {
      "text/plain": [
       "5.711478404931599"
      ]
     },
     "execution_count": 41,
     "metadata": {},
     "output_type": "execute_result"
    }
   ],
   "source": [
    "32.62098557**0.5"
   ]
  },
  {
   "cell_type": "code",
   "execution_count": 42,
   "id": "ed0be8f7",
   "metadata": {},
   "outputs": [
    {
     "data": {
      "text/plain": [
       "[<matplotlib.lines.Line2D at 0x7fa3a8b47250>]"
      ]
     },
     "execution_count": 42,
     "metadata": {},
     "output_type": "execute_result"
    }
   ],
   "source": [
    "# Defining Ya(y)\n",
    "\n",
    "β2_ya = 23.912100260537642\n",
    "n111a=5.711740152527949\n",
    "n222a=5.711478404931599\n",
    "\n",
    "a1a=1.8000000000000007/2\n",
    "\n",
    "κ11a= (k0**2*n111a**2 - β2_ya**2) **0.5\n",
    "γ11a = (k0**2*n222a**2 -β2_ya**2) **0.5\n",
    "\n",
    "def Ya(y):\n",
    "    Ya=[]\n",
    "    for i in y:\n",
    "        if np.abs(i) < a1a:\n",
    "            ans = np.cos(κ11a*i)\n",
    "        else:\n",
    "            ans = np.exp(-γ11a*np.abs(i))*np.cos(κ11a*a1a) / (np.exp(-γ11a*a1a))\n",
    "        Ya=Ya+[ans]\n",
    "    return np.asarray(Ya)\n",
    "plt.grid()\n",
    "plt.plot(y,Ya(y))"
   ]
  },
  {
   "cell_type": "markdown",
   "id": "d3866e8c",
   "metadata": {},
   "source": [
    "<h1>STEP_7a"
   ]
  },
  {
   "cell_type": "code",
   "execution_count": 43,
   "id": "e83ee3b0",
   "metadata": {},
   "outputs": [
    {
     "data": {
      "text/plain": [
       "1104.7346192346542"
      ]
     },
     "execution_count": 43,
     "metadata": {},
     "output_type": "execute_result"
    }
   ],
   "source": [
    "βt_sqa = β2_xa**2 + β2_ya**2-(k0*n1)**2\n",
    "βt_sqa"
   ]
  },
  {
   "cell_type": "markdown",
   "id": "71169458",
   "metadata": {},
   "source": [
    "<h1>STEP_3b"
   ]
  },
  {
   "cell_type": "code",
   "execution_count": 44,
   "id": "d68a57df",
   "metadata": {},
   "outputs": [
    {
     "name": "stdout",
     "output_type": "stream",
     "text": [
      "[[32.62551379]\n",
      " [32.62551379]\n",
      " [32.62551379]\n",
      " [32.62551379]\n",
      " [32.62551379]\n",
      " [32.62551379]\n",
      " [32.62551379]\n",
      " [32.62551379]\n",
      " [32.62551379]\n",
      " [32.62551379]\n",
      " [32.62551379]\n",
      " [32.62551379]\n",
      " [32.62551379]\n",
      " [32.62551379]\n",
      " [32.62551379]\n",
      " [32.62551379]\n",
      " [32.62551379]\n",
      " [32.62551379]\n",
      " [32.62551379]\n",
      " [32.62551379]\n",
      " [32.62551379]\n",
      " [32.62551379]\n",
      " [32.62551379]\n",
      " [32.62551379]\n",
      " [32.62551379]\n",
      " [32.62551379]\n",
      " [32.62551379]\n",
      " [32.62551379]\n",
      " [32.62551379]\n",
      " [32.62551379]\n",
      " [32.62551379]\n",
      " [32.62551379]\n",
      " [32.62551379]\n",
      " [32.62551379]\n",
      " [32.62551379]\n",
      " [32.62551379]\n",
      " [32.62551379]\n",
      " [32.62551379]\n",
      " [32.62551379]\n",
      " [32.62551379]\n",
      " [32.62551379]\n",
      " [32.62551379]\n",
      " [32.62551379]\n",
      " [32.62551379]\n",
      " [32.62551379]\n",
      " [32.62551379]\n",
      " [32.62850379]\n",
      " [32.62850379]\n",
      " [32.62850379]\n",
      " [32.62850379]\n",
      " [32.62850379]\n",
      " [32.62850379]\n",
      " [32.62850379]\n",
      " [32.62850379]\n",
      " [32.62850379]\n",
      " [32.62551379]\n",
      " [32.62551379]\n",
      " [32.62551379]\n",
      " [32.62551379]\n",
      " [32.62551379]\n",
      " [32.62551379]\n",
      " [32.62551379]\n",
      " [32.62551379]\n",
      " [32.62551379]\n",
      " [32.62551379]\n",
      " [32.62551379]\n",
      " [32.62551379]\n",
      " [32.62551379]\n",
      " [32.62551379]\n",
      " [32.62551379]\n",
      " [32.62551379]\n",
      " [32.62551379]\n",
      " [32.62551379]\n",
      " [32.62551379]\n",
      " [32.62551379]\n",
      " [32.62551379]\n",
      " [32.62551379]\n",
      " [32.62551379]\n",
      " [32.62551379]\n",
      " [32.62551379]\n",
      " [32.62551379]\n",
      " [32.62551379]\n",
      " [32.62551379]\n",
      " [32.62551379]\n",
      " [32.62551379]\n",
      " [32.62551379]\n",
      " [32.62551379]\n",
      " [32.62551379]\n",
      " [32.62551379]\n",
      " [32.62551379]\n",
      " [32.62551379]\n",
      " [32.62551379]\n",
      " [32.62551379]\n",
      " [32.62551379]\n",
      " [32.62551379]\n",
      " [32.62551379]\n",
      " [32.62551379]\n",
      " [32.62551379]\n",
      " [32.62551379]\n",
      " [32.62551379]\n",
      " [32.62551379]]\n"
     ]
    }
   ],
   "source": [
    " N3b=[]\n",
    "for i in x:\n",
    "    n=[]\n",
    "    for j in range (len(y)):\n",
    "        \n",
    "        n = n + [(n_sq([i],[j]) - n2a_y[j]) * (Ya([j]))**2]\n",
    "    N3b= N3b+[(h*((n[0]+n[-1])+(2*sum(n[1:-1])))/2)+(k0*n1)**2]    \n",
    "print(np.asarray(N3b))\n",
    "n2b_x=N3b"
   ]
  },
  {
   "cell_type": "markdown",
   "id": "5a9615f3",
   "metadata": {},
   "source": [
    "<h1>STEP_4b"
   ]
  },
  {
   "cell_type": "code",
   "execution_count": 45,
   "id": "7e76c357",
   "metadata": {},
   "outputs": [
    {
     "name": "stdout",
     "output_type": "stream",
     "text": [
      "[array([32.62850379]), array([32.62551379])]\n"
     ]
    }
   ],
   "source": [
    "w2b=[]\n",
    "for i in range (len(y)-1):\n",
    "    if N3b[i]-N3b[i+1]!=0:\n",
    "        Nx1b = [N3b[i],N3b[i+1]]\n",
    "        w2b = w2b+[y[i]]\n",
    "        \n",
    "print(Nx1b)"
   ]
  },
  {
   "cell_type": "code",
   "execution_count": 46,
   "id": "69b7fa73",
   "metadata": {},
   "outputs": [
    {
     "data": {
      "text/plain": [
       "5.712136534607695"
      ]
     },
     "execution_count": 46,
     "metadata": {},
     "output_type": "execute_result"
    }
   ],
   "source": [
    "32.62850379**0.5"
   ]
  },
  {
   "cell_type": "code",
   "execution_count": 47,
   "id": "9c46dc7e",
   "metadata": {},
   "outputs": [
    {
     "data": {
      "text/plain": [
       "5.711874805175618"
      ]
     },
     "execution_count": 47,
     "metadata": {},
     "output_type": "execute_result"
    }
   ],
   "source": [
    "32.62551379**0.5"
   ]
  },
  {
   "cell_type": "code",
   "execution_count": 48,
   "id": "3181425f",
   "metadata": {},
   "outputs": [
    {
     "data": {
      "text/plain": [
       "23.91375985317215"
      ]
     },
     "execution_count": 48,
     "metadata": {},
     "output_type": "execute_result"
    }
   ],
   "source": [
    "23.91375985317215"
   ]
  },
  {
   "cell_type": "code",
   "execution_count": 49,
   "id": "bb36da67",
   "metadata": {},
   "outputs": [
    {
     "data": {
      "text/plain": [
       "[<matplotlib.lines.Line2D at 0x7fa3a8b44550>]"
      ]
     },
     "execution_count": 49,
     "metadata": {},
     "output_type": "execute_result"
    }
   ],
   "source": [
    "# Defining Xb(x)\n",
    "\n",
    "β2_xb = 23.91375985317215\n",
    "n11b=5.712136534607695\n",
    "n22b=5.711874805175618\n",
    "b1b=1.8000000000000007/2\n",
    "\n",
    "κ1b= (k0**2*n11b**2 - β2_xb**2) **0.5\n",
    "γ1b = (k0**2*n22b**2 -β2_xb**2) **0.5\n",
    "\n",
    "def Xb(x):\n",
    "    Xb=[]\n",
    "    for i in x:\n",
    "        if np.abs(i) < b1b:\n",
    "            ans = np.cos(κ1b*i)\n",
    "        else:\n",
    "            ans = np.exp(-γ1b*np.abs(i))*np.cos(κ1b*b1b) / (np.exp(-γ1b*b1b))\n",
    "        Xb=Xb+[ans]\n",
    "    return np.asarray(Xb)\n",
    "plt.grid()\n",
    "plt.plot(x,Xb(x))\n"
   ]
  },
  {
   "cell_type": "code",
   "execution_count": null,
   "id": "26012874",
   "metadata": {},
   "outputs": [],
   "source": []
  },
  {
   "cell_type": "code",
   "execution_count": null,
   "id": "83b44c07",
   "metadata": {},
   "outputs": [],
   "source": []
  },
  {
   "cell_type": "markdown",
   "id": "ac10ddc7",
   "metadata": {},
   "source": [
    "<h1>STEP_5b"
   ]
  },
  {
   "cell_type": "code",
   "execution_count": 50,
   "id": "14021379",
   "metadata": {},
   "outputs": [
    {
     "name": "stdout",
     "output_type": "stream",
     "text": [
      "[[32.62494842]\n",
      " [32.62494842]\n",
      " [32.62494842]\n",
      " [32.62494842]\n",
      " [32.62494842]\n",
      " [32.62494842]\n",
      " [32.62494842]\n",
      " [32.62494842]\n",
      " [32.62494842]\n",
      " [32.62494842]\n",
      " [32.62494842]\n",
      " [32.62494842]\n",
      " [32.62494842]\n",
      " [32.62494842]\n",
      " [32.62494842]\n",
      " [32.62494842]\n",
      " [32.62494842]\n",
      " [32.62494842]\n",
      " [32.62494842]\n",
      " [32.62494842]\n",
      " [32.62494842]\n",
      " [32.62494842]\n",
      " [32.62494842]\n",
      " [32.62494842]\n",
      " [32.62494842]\n",
      " [32.62494842]\n",
      " [32.62494842]\n",
      " [32.62494842]\n",
      " [32.62494842]\n",
      " [32.62494842]\n",
      " [32.62494842]\n",
      " [32.62494842]\n",
      " [32.62494842]\n",
      " [32.62494842]\n",
      " [32.62494842]\n",
      " [32.62494842]\n",
      " [32.62494842]\n",
      " [32.62494842]\n",
      " [32.62494842]\n",
      " [32.62494842]\n",
      " [32.62494842]\n",
      " [32.62494842]\n",
      " [32.62494842]\n",
      " [32.62494842]\n",
      " [32.62494842]\n",
      " [32.62494842]\n",
      " [32.62793842]\n",
      " [32.62793842]\n",
      " [32.62793842]\n",
      " [32.62793842]\n",
      " [32.62793842]\n",
      " [32.62793842]\n",
      " [32.62793842]\n",
      " [32.62793842]\n",
      " [32.62793842]\n",
      " [32.62494842]\n",
      " [32.62494842]\n",
      " [32.62494842]\n",
      " [32.62494842]\n",
      " [32.62494842]\n",
      " [32.62494842]\n",
      " [32.62494842]\n",
      " [32.62494842]\n",
      " [32.62494842]\n",
      " [32.62494842]\n",
      " [32.62494842]\n",
      " [32.62494842]\n",
      " [32.62494842]\n",
      " [32.62494842]\n",
      " [32.62494842]\n",
      " [32.62494842]\n",
      " [32.62494842]\n",
      " [32.62494842]\n",
      " [32.62494842]\n",
      " [32.62494842]\n",
      " [32.62494842]\n",
      " [32.62494842]\n",
      " [32.62494842]\n",
      " [32.62494842]\n",
      " [32.62494842]\n",
      " [32.62494842]\n",
      " [32.62494842]\n",
      " [32.62494842]\n",
      " [32.62494842]\n",
      " [32.62494842]\n",
      " [32.62494842]\n",
      " [32.62494842]\n",
      " [32.62494842]\n",
      " [32.62494842]\n",
      " [32.62494842]\n",
      " [32.62494842]\n",
      " [32.62494842]\n",
      " [32.62494842]\n",
      " [32.62494842]\n",
      " [32.62494842]\n",
      " [32.62494842]\n",
      " [32.62494842]\n",
      " [32.62494842]\n",
      " [32.62494842]\n",
      " [32.62494842]\n",
      " [32.62494842]]\n"
     ]
    }
   ],
   "source": [
    "N3b=[]\n",
    "\n",
    "for i in y:\n",
    "    n=[]\n",
    "    for j in range(len(x)):\n",
    "        \n",
    "        n = n + [(n_sq([i],[j]) - n2b_x[j]) * (Xb([j]))**2]\n",
    "    N3b= N3b+[(h*((n[0]+n[-1])+(2*sum(n[1:-1])))/2)+(k0*n1)**2]    \n",
    "print(np.asarray(N3b))\n",
    "n2b_y = np.asarray(N3b)"
   ]
  },
  {
   "cell_type": "code",
   "execution_count": null,
   "id": "4f111aee",
   "metadata": {},
   "outputs": [],
   "source": []
  },
  {
   "cell_type": "code",
   "execution_count": null,
   "id": "fec4b52a",
   "metadata": {},
   "outputs": [],
   "source": []
  },
  {
   "cell_type": "markdown",
   "id": "97384dc2",
   "metadata": {},
   "source": [
    "<h1>STEP_6b"
   ]
  },
  {
   "cell_type": "code",
   "execution_count": 51,
   "id": "bbf797fa",
   "metadata": {},
   "outputs": [
    {
     "name": "stdout",
     "output_type": "stream",
     "text": [
      "[array([32.62098557]), array([32.62494842])]\n"
     ]
    }
   ],
   "source": [
    "w1b=[]\n",
    "for i in range (len(y)-1):\n",
    "    if n2b_y[i]-n2a_y[i+1]!=0:\n",
    "        Nx1b = [n2a_y[i],n2b_y[i+1]]\n",
    "        w1b = w1b+[y[i]]\n",
    "        \n",
    "print(Nx1b)"
   ]
  },
  {
   "cell_type": "code",
   "execution_count": 52,
   "id": "9dc81fb1",
   "metadata": {},
   "outputs": [
    {
     "data": {
      "text/plain": [
       "5.711478404931599"
      ]
     },
     "execution_count": 52,
     "metadata": {},
     "output_type": "execute_result"
    }
   ],
   "source": [
    "32.62098557**0.5"
   ]
  },
  {
   "cell_type": "code",
   "execution_count": 53,
   "id": "79744330",
   "metadata": {},
   "outputs": [
    {
     "data": {
      "text/plain": [
       "5.711825314205609"
      ]
     },
     "execution_count": 53,
     "metadata": {},
     "output_type": "execute_result"
    }
   ],
   "source": [
    "32.62494842**0.5"
   ]
  },
  {
   "cell_type": "code",
   "execution_count": 54,
   "id": "85797a68",
   "metadata": {},
   "outputs": [
    {
     "data": {
      "text/plain": [
       "23.912132279035575"
      ]
     },
     "execution_count": 54,
     "metadata": {},
     "output_type": "execute_result"
    }
   ],
   "source": [
    "23.912132279035575"
   ]
  },
  {
   "cell_type": "code",
   "execution_count": 55,
   "id": "881556f3",
   "metadata": {},
   "outputs": [
    {
     "data": {
      "text/plain": [
       "[<matplotlib.lines.Line2D at 0x7fa3a8b46830>]"
      ]
     },
     "execution_count": 55,
     "metadata": {},
     "output_type": "execute_result"
    }
   ],
   "source": [
    "# Defining Yb(y)\n",
    "\n",
    "β2_yb = 23.912100260537642\n",
    "n111b=5.711740152527949\n",
    "n222b=5.711478404931599\n",
    "\n",
    "a1b=1.8000000000000007/2\n",
    "\n",
    "κ11b= (k0**2*n111b**2 - β2_yb**2) **0.5\n",
    "γ11b = (k0**2*n222b**2 -β2_yb**2) **0.5\n",
    "\n",
    "def Yb(y):\n",
    "    Yb=[]\n",
    "    for i in y:\n",
    "        if np.abs(i) < a1b:\n",
    "            ans = np.cos(κ11b*i)\n",
    "        else:\n",
    "            ans = np.exp(-γ11b*np.abs(i))*np.cos(κ11b*a1b) / (np.exp(-γ11b*a1b))\n",
    "        Yb=Yb+[ans]\n",
    "    return np.asarray(Yb)\n",
    "plt.grid()\n",
    "plt.plot(y,Yb(y))"
   ]
  },
  {
   "cell_type": "markdown",
   "id": "26eead23",
   "metadata": {},
   "source": [
    "<h1>STEP_7b"
   ]
  },
  {
   "cell_type": "code",
   "execution_count": 56,
   "id": "e9dc6dcc",
   "metadata": {},
   "outputs": [
    {
     "data": {
      "text/plain": [
       "1104.1780315808348"
      ]
     },
     "execution_count": 56,
     "metadata": {},
     "output_type": "execute_result"
    }
   ],
   "source": [
    "βt_sqb = β2_xb**2 + β2_yb**2-(k0*n1)**2\n",
    "βt_sqb"
   ]
  },
  {
   "cell_type": "markdown",
   "id": "34107683",
   "metadata": {},
   "source": [
    "<h3>previous β"
   ]
  },
  {
   "cell_type": "code",
   "execution_count": 57,
   "id": "ba9bdd47",
   "metadata": {},
   "outputs": [
    {
     "data": {
      "text/plain": [
       "1104.7346192346542"
      ]
     },
     "execution_count": 57,
     "metadata": {},
     "output_type": "execute_result"
    }
   ],
   "source": [
    "1104.7346192346542"
   ]
  },
  {
   "cell_type": "markdown",
   "id": "f8d3262d",
   "metadata": {},
   "source": [
    "<h1>STEP_8b"
   ]
  },
  {
   "cell_type": "code",
   "execution_count": 58,
   "id": "172cfb10",
   "metadata": {},
   "outputs": [
    {
     "data": {
      "text/plain": [
       "101"
      ]
     },
     "execution_count": 58,
     "metadata": {},
     "output_type": "execute_result"
    }
   ],
   "source": [
    "len(Yb(y))"
   ]
  },
  {
   "cell_type": "code",
   "execution_count": 59,
   "id": "7edbb995",
   "metadata": {},
   "outputs": [
    {
     "data": {
      "text/plain": [
       "101"
      ]
     },
     "execution_count": 59,
     "metadata": {},
     "output_type": "execute_result"
    }
   ],
   "source": [
    "len(Xb(x))"
   ]
  },
  {
   "cell_type": "code",
   "execution_count": 60,
   "id": "b5d6cb28",
   "metadata": {},
   "outputs": [
    {
     "data": {
      "text/plain": [
       "array([7.46578610e-04, 8.69201147e-04, 1.01196394e-03, 1.17817495e-03,\n",
       "       1.37168546e-03, 1.59697928e-03, 1.85927671e-03, 2.16465544e-03,\n",
       "       2.52019140e-03, 2.93412271e-03, 3.41604058e-03, 3.97711152e-03,\n",
       "       4.63033610e-03, 5.39085020e-03, 6.27627569e-03, 7.30712875e-03,\n",
       "       8.50729529e-03, 9.90458436e-03, 1.15313725e-02, 1.34253541e-02,\n",
       "       1.56304146e-02, 1.81976474e-02, 2.11865379e-02, 2.46663416e-02,\n",
       "       2.87176891e-02, 3.34344542e-02, 3.89259289e-02, 4.53193563e-02,\n",
       "       5.27628785e-02, 6.14289693e-02, 7.15184307e-02, 8.32650456e-02,\n",
       "       9.69409947e-02, 1.12863164e-01, 1.31400485e-01, 1.52982486e-01,\n",
       "       1.78109245e-01, 2.07362973e-01, 2.41421508e-01, 2.81074021e-01,\n",
       "       3.27239299e-01, 3.80987039e-01, 4.43562630e-01, 5.16416009e-01,\n",
       "       6.01235264e-01, 6.99985740e-01, 8.04897353e-01, 8.88619294e-01,\n",
       "       9.49972987e-01, 9.87414044e-01, 1.00000000e+00, 9.87414044e-01,\n",
       "       9.49972987e-01, 8.88619294e-01, 8.04897353e-01, 6.99985740e-01,\n",
       "       6.01235264e-01, 5.16416009e-01, 4.43562630e-01, 3.80987039e-01,\n",
       "       3.27239299e-01, 2.81074021e-01, 2.41421508e-01, 2.07362973e-01,\n",
       "       1.78109245e-01, 1.52982486e-01, 1.31400485e-01, 1.12863164e-01,\n",
       "       9.69409947e-02, 8.32650456e-02, 7.15184307e-02, 6.14289693e-02,\n",
       "       5.27628785e-02, 4.53193563e-02, 3.89259289e-02, 3.34344542e-02,\n",
       "       2.87176891e-02, 2.46663416e-02, 2.11865379e-02, 1.81976474e-02,\n",
       "       1.56304146e-02, 1.34253541e-02, 1.15313725e-02, 9.90458436e-03,\n",
       "       8.50729529e-03, 7.30712875e-03, 6.27627569e-03, 5.39085020e-03,\n",
       "       4.63033610e-03, 3.97711152e-03, 3.41604058e-03, 2.93412271e-03,\n",
       "       2.52019140e-03, 2.16465544e-03, 1.85927671e-03, 1.59697928e-03,\n",
       "       1.37168546e-03, 1.17817495e-03, 1.01196394e-03, 8.69201147e-04,\n",
       "       7.46578610e-04])"
      ]
     },
     "execution_count": 60,
     "metadata": {},
     "output_type": "execute_result"
    }
   ],
   "source": [
    "Xb(x)"
   ]
  },
  {
   "cell_type": "code",
   "execution_count": 61,
   "id": "2f544aa4",
   "metadata": {},
   "outputs": [
    {
     "data": {
      "text/plain": [
       "[<matplotlib.lines.Line2D at 0x7fa3a8b46320>]"
      ]
     },
     "execution_count": 61,
     "metadata": {},
     "output_type": "execute_result"
    }
   ],
   "source": [
    "plt.plot(x,Xb(x))"
   ]
  },
  {
   "cell_type": "code",
   "execution_count": null,
   "id": "9a0043aa",
   "metadata": {},
   "outputs": [],
   "source": []
  },
  {
   "cell_type": "code",
   "execution_count": 62,
   "id": "2209cd95",
   "metadata": {},
   "outputs": [
    {
     "data": {
      "text/plain": [
       "101"
      ]
     },
     "execution_count": 62,
     "metadata": {},
     "output_type": "execute_result"
    }
   ],
   "source": [
    "len(Yb(y))"
   ]
  },
  {
   "cell_type": "code",
   "execution_count": 63,
   "id": "8005add7",
   "metadata": {},
   "outputs": [
    {
     "data": {
      "text/plain": [
       "0.011366646363181692"
      ]
     },
     "execution_count": 63,
     "metadata": {},
     "output_type": "execute_result"
    }
   ],
   "source": [
    "dx=0.001\n",
    "L=10\n",
    "x = np.linspace(-L,L,101)\n",
    "n=len(x)\n",
    "Ψ1 = Xb(x)\n",
    "\n",
    "N = sum(np.conj(Ψ1)*Ψ1) * dx\n",
    "N"
   ]
  },
  {
   "cell_type": "code",
   "execution_count": 64,
   "id": "bfe3130c",
   "metadata": {},
   "outputs": [
    {
     "data": {
      "text/plain": [
       "[<matplotlib.lines.Line2D at 0x7fa3a8b44130>]"
      ]
     },
     "execution_count": 64,
     "metadata": {},
     "output_type": "execute_result"
    }
   ],
   "source": [
    "plt.plot(x,Ψ1/np.sqrt(N))"
   ]
  },
  {
   "cell_type": "code",
   "execution_count": null,
   "id": "f5c71017",
   "metadata": {},
   "outputs": [],
   "source": []
  },
  {
   "cell_type": "code",
   "execution_count": 65,
   "id": "96a1fb0d",
   "metadata": {},
   "outputs": [
    {
     "data": {
      "text/plain": [
       "(101, 101)"
      ]
     },
     "execution_count": 65,
     "metadata": {},
     "output_type": "execute_result"
    }
   ],
   "source": [
    "# def X(x):\n",
    "#     return np.asarray(Xb(x))\n",
    "# def Y(y):\n",
    "#     return np.asarray(Yb(y))\n",
    "def Z(x,y):\n",
    "    return np.multiply.outer(Xb(x),Yb(y))\n",
    "np.shape(Z(x,y))"
   ]
  },
  {
   "cell_type": "code",
   "execution_count": 66,
   "id": "a960f9ba",
   "metadata": {},
   "outputs": [],
   "source": [
    "# a=np.array([1,2,3])\n",
    "# b=np.array([1,2,3])\n",
    "# np.multiply.outer(a,b)"
   ]
  },
  {
   "cell_type": "code",
   "execution_count": 67,
   "id": "5212a5e1",
   "metadata": {},
   "outputs": [
    {
     "data": {
      "image/png": "[encoded data removed]",
      "text/plain": [
       "<Figure size 640x480 with 1 Axes>"
      ]
     },
     "metadata": {},
     "output_type": "display_data"
    }
   ],
   "source": [
    "plt.plot(x,Z(x,y))\n",
    "plt.show()"
   ]
  },
  {
   "cell_type": "code",
   "execution_count": 68,
   "id": "9203ef1c",
   "metadata": {},
   "outputs": [
    {
     "data": {
      "image/png": "[encoded data removed]",
      "text/plain": [
       "<Figure size 1000x800 with 2 Axes>"
      ]
     },
     "metadata": {},
     "output_type": "display_data"
    }
   ],
   "source": [
    "from mpl_toolkits.mplot3d import Axes3D\n",
    "\n",
    "x = np.linspace(-5, 5, 101)\n",
    "y = np.linspace(-5, 5, 101)\n",
    "\n",
    "X, Y = np.meshgrid(x, y)\n",
    "Z =Z(x,y)\n",
    "fig = plt.figure(figsize=(10, 8))\n",
    "ax = fig.add_subplot(121, projection='3d')\n",
    "ax.plot_surface(X, Y, Z, cmap = plt.cm.jet)\n",
    "ax.set_xlabel('$X$')\n",
    "ax.set_ylabel('$Y$')\n",
    "ax.set_zlabel('$Z$')\n",
    "plt.title(\"Side View\")\n",
    "for angle in range(0, 360):\n",
    "    ax.view_init(0, angle)\n",
    "ax = fig.add_subplot(122, projection='3d')\n",
    "ax.plot_surface(X, Y, Z, cmap = plt.cm.jet)\n",
    "ax.set_xlabel('$X$')\n",
    "ax.set_ylabel('$Y$')\n",
    "ax.set_zlabel('$Z$')\n",
    "plt.title(\"Top View\")\n",
    "for angle in range(0, 360):\n",
    "    ax.view_init(90, angle)\n",
    "plt.show()\n"
   ]
  },
  {
   "cell_type": "code",
   "execution_count": null,
   "id": "2d4a85d5",
   "metadata": {},
   "outputs": [],
   "source": []
  },
  {
   "cell_type": "code",
   "execution_count": null,
   "id": "7484c269",
   "metadata": {},
   "outputs": [],
   "source": []
  },
  {
   "cell_type": "code",
   "execution_count": null,
   "id": "49618b4d",
   "metadata": {},
   "outputs": [],
   "source": []
  },
  {
   "cell_type": "code",
   "execution_count": null,
   "id": "0197c828",
   "metadata": {},
   "outputs": [],
   "source": []
  },
  {
   "cell_type": "code",
   "execution_count": null,
   "id": "189bc497",
   "metadata": {},
   "outputs": [],
   "source": []
  }
 ],
 "metadata": {
  "kernelspec": {
   "display_name": "Python 3",
   "language": "python",
   "name": "python3"
  },
  "language_info": {
   "codemirror_mode": {
    "name": "ipython",
    "version": 3
   },
   "file_extension": ".py",
   "mimetype": "text/x-python",
   "name": "python",
   "nbconvert_exporter": "python",
   "pygments_lexer": "ipython3",
   "version": "3.10.6"
  }
 },
 "nbformat": 4,
 "nbformat_minor": 5
}
